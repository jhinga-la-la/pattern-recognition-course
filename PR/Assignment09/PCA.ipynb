{
  "nbformat": 4,
  "nbformat_minor": 0,
  "metadata": {
    "colab": {
      "name": "PCA.ipynb",
      "provenance": []
    },
    "kernelspec": {
      "name": "python3",
      "display_name": "Python 3"
    }
  },
  "cells": [
    {
      "cell_type": "code",
      "metadata": {
        "id": "A6bOC-W58unm",
        "colab_type": "code",
        "colab": {}
      },
      "source": [
        "import pickle\n",
        "import numpy as np\n",
        "data = pickle.load(open('shapeData.pickle', 'rb'))"
      ],
      "execution_count": 0,
      "outputs": []
    },
    {
      "cell_type": "code",
      "metadata": {
        "id": "fNBkFepJ9AXG",
        "colab_type": "code",
        "colab": {
          "base_uri": "https://localhost:8080/",
          "height": 295
        },
        "outputId": "15071b60-01f3-4ae0-cd96-0cc5107ba2c4"
      },
      "source": [
        "import matplotlib.pyplot as plt\n",
        "plt.scatter(data[:,0], -data[:,1])\n",
        "plt.gca().set_aspect('equal', adjustable='box')\n",
        "plt.title('Mask of the brick')\n",
        "plt.xlabel('x-value')\n",
        "plt.ylabel('inverted y-value')\n",
        "plt.draw()"
      ],
      "execution_count": 2,
      "outputs": [
        {
          "output_type": "display_data",
          "data": {
            "image/png": "[encoded data removed]",
            "text/plain": [
              "<Figure size 432x288 with 1 Axes>"
            ]
          },
          "metadata": {
            "tags": []
          }
        }
      ]
    },
    {
      "cell_type": "code",
      "metadata": {
        "id": "uG7UEwyYCZ8e",
        "colab_type": "code",
        "colab": {}
      },
      "source": [
        "mean_x = np.mean(data[:,0])\n",
        "mean_y = np.mean(data[:,1])\n",
        "data_centr = data - [mean_x, mean_y]"
      ],
      "execution_count": 0,
      "outputs": []
    },
    {
      "cell_type": "code",
      "metadata": {
        "id": "05GuvOOjGBgn",
        "colab_type": "code",
        "colab": {}
      },
      "source": [
        "covariance_matrix = 1 / (data_centr.shape[0]-1) * np.dot(data_centr.T, data_centr)"
      ],
      "execution_count": 0,
      "outputs": []
    },
    {
      "cell_type": "code",
      "metadata": {
        "id": "3VojeCnFGSAD",
        "colab_type": "code",
        "colab": {}
      },
      "source": [
        "eval_, evec_ = np.linalg.eig(covariance_matrix)"
      ],
      "execution_count": 0,
      "outputs": []
    },
    {
      "cell_type": "code",
      "metadata": {
        "id": "6X_61ZW9Gsvq",
        "colab_type": "code",
        "colab": {}
      },
      "source": [
        "idx = np.argsort(eval_)[::-1]\n",
        "eval = eval_[idx]\n",
        "evec = evec_[:,idx]"
      ],
      "execution_count": 0,
      "outputs": []
    },
    {
      "cell_type": "code",
      "metadata": {
        "id": "BkM3zeXoMU6T",
        "colab_type": "code",
        "colab": {
          "base_uri": "https://localhost:8080/",
          "height": 51
        },
        "outputId": "ef776eee-4837-4df8-9723-e4b38a41338c"
      },
      "source": [
        "print('variance percentage explained by eigen value {:.2f} or axis u_1 is {:.2f}'.format(eval[0], (eval[0] / sum(eval)) * 100))\n",
        "print('Varaince percentage explained by eigen value {:.2f} or axis u_2 is {:.2f}'.format(eval[1], (eval[1] / sum(eval)) * 100))"
      ],
      "execution_count": 7,
      "outputs": [
        {
          "output_type": "stream",
          "text": [
            "variance percentage explained by eigen value 1088.41 or axis u_1 is 78.99\n",
            "Varaince percentage explained by eigen value 289.51 or axis u_2 is 21.01\n"
          ],
          "name": "stdout"
        }
      ]
    },
    {
      "cell_type": "code",
      "metadata": {
        "id": "_cLDfesON6cA",
        "colab_type": "code",
        "colab": {}
      },
      "source": [
        "data_proj = np.dot(data, evec.T)"
      ],
      "execution_count": 0,
      "outputs": []
    },
    {
      "cell_type": "code",
      "metadata": {
        "id": "-U5tskcER0Wm",
        "colab_type": "code",
        "colab": {
          "base_uri": "https://localhost:8080/",
          "height": 248
        },
        "outputId": "2bc4006a-6116-468a-8c65-86dcb3cfead4"
      },
      "source": [
        "plt.scatter(data_proj[:,0], -data_proj[:,1])\n",
        "plt.gca().set_aspect('equal', adjustable='box')\n",
        "plt.title('Mask of the brick')\n",
        "plt.xlabel('x-value')\n",
        "plt.ylabel('inverted y-value')\n",
        "plt.draw()"
      ],
      "execution_count": 9,
      "outputs": [
        {
          "output_type": "display_data",
          "data": {
            "image/png": "[encoded data removed]",
            "text/plain": [
              "<Figure size 432x288 with 1 Axes>"
            ]
          },
          "metadata": {
            "tags": []
          }
        }
      ]
    }
  ]
}