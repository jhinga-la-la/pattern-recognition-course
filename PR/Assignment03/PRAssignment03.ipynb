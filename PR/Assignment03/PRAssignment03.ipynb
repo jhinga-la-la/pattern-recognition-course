{
  "nbformat": 4,
  "nbformat_minor": 0,
  "metadata": {
    "colab": {
      "name": "PRAssignment03.ipynb",
      "provenance": []
    },
    "kernelspec": {
      "name": "python3",
      "display_name": "Python 3"
    }
  },
  "cells": [
    {
      "cell_type": "code",
      "metadata": {
        "id": "nU71Qz-S0lRE",
        "colab_type": "code",
        "colab": {}
      },
      "source": [
        "import numpy as np\n",
        "import math"
      ],
      "execution_count": 0,
      "outputs": []
    },
    {
      "cell_type": "code",
      "metadata": {
        "id": "UPF8D-Wt0o_M",
        "colab_type": "code",
        "colab": {}
      },
      "source": [
        "def distance(xi, xj, matrixA):\n",
        "  indiv_dif = xi - xj\n",
        "  return math.sqrt(np.dot(np.dot((xi - xj).transpose(), np.linalg.inv(matrixA)), (xi - xj)))"
      ],
      "execution_count": 0,
      "outputs": []
    },
    {
      "cell_type": "code",
      "metadata": {
        "id": "i0_6l7I11WPc",
        "colab_type": "code",
        "colab": {}
      },
      "source": [
        "years_education = np.array([1, 1.5, 1.9, 3, 5, 5.5, 7])\n",
        "monthly_income = np.array([1200, 1000, 1300, 1900, 3200, 2400, 4200])"
      ],
      "execution_count": 0,
      "outputs": []
    },
    {
      "cell_type": "code",
      "metadata": {
        "id": "MSRqpTcv1xj0",
        "colab_type": "code",
        "colab": {
          "base_uri": "https://localhost:8080/",
          "height": 119
        },
        "outputId": "0896153e-646a-4065-d6fd-5e61f59dab24"
      },
      "source": [
        "euc_distance = np.array([[1, 0],[0, 1]])\n",
        "#ddof is required here as the equation states that it is supposed to be divided by (N-1)\n",
        "std_distance = np.array([[np.var(years_education, ddof = 1), 0],[0, np.var(monthly_income, ddof = 1)]])\n",
        "mahalanobis_dist = np.cov(years_education, monthly_income)\n",
        "\n",
        "print('Euclidean distance between (7, 4200):(5, 3200)')\n",
        "print(round(distance(np.array([7, 4200]), np.array([5, 3200]), euc_distance), 2))\n",
        "\n",
        "print('Standardization distance between (7, 4200):(5, 3200)')\n",
        "print(round(distance(np.array([7, 4200]), np.array([5, 3200]), std_distance), 2))\n",
        "\n",
        "print('Mahalanobis distance between (1.9, 1300):(1.5, 1000)')\n",
        "print(round(distance(np.array([5, 3200]), np.array([5.5, 2400]), mahalanobis_dist), 2))"
      ],
      "execution_count": 4,
      "outputs": [
        {
          "output_type": "stream",
          "text": [
            "Euclidean distance between (7, 4200):(5, 3200)\n",
            "1000.0\n",
            "Standardization distance between (7, 4200):(5, 3200)\n",
            "1.22\n",
            "Mahalanobis distance between (1.9, 1300):(1.5, 1000)\n",
            "2.78\n"
          ],
          "name": "stdout"
        }
      ]
    }
  ]
}