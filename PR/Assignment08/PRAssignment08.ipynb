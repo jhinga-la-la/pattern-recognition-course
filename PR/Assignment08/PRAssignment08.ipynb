{
  "nbformat": 4,
  "nbformat_minor": 0,
  "metadata": {
    "colab": {
      "name": "PRAssignment08.ipynb",
      "provenance": [],
      "collapsed_sections": []
    },
    "kernelspec": {
      "name": "python3",
      "display_name": "Python 3"
    },
    "pycharm": {
      "stem_cell": {
        "cell_type": "raw",
        "source": [],
        "metadata": {
          "collapsed": false
        }
      }
    }
  },
  "cells": [
    {
      "cell_type": "code",
      "metadata": {
        "id": "O-ZtWkpgW-v7",
        "colab_type": "code",
        "colab": {}
      },
      "source": [
        "import numpy as np\n",
        "data = np.array([-2, 2, -1, 0])\n",
        "\n",
        "# x -> (x, x**2)\n",
        "def transform(x):\n",
        "  x_hat = []\n",
        "  for i in x:\n",
        "    x_hat.append([i, i**2])\n",
        "  return np.array(x_hat)\n",
        "\n",
        "label = np.array([1, 1, -1, -1])"
      ],
      "execution_count": 0,
      "outputs": []
    },
    {
      "cell_type": "code",
      "metadata": {
        "id": "IZixr8T4Yyeg",
        "colab_type": "code",
        "outputId": "1f3c0d59-d107-4b44-dd2c-b40f4bb1b366",
        "colab": {
          "base_uri": "https://localhost:8080/",
          "height": 34
        }
      },
      "source": [
        "from sklearn import svm\n",
        "# 1. Transformation\n",
        "x_hat = transform(data)\n",
        "\n",
        "# 2. Training SVM on transformed data\n",
        "model = svm.SVC(kernel=\"linear\")\n",
        "model.fit(x_hat, label)\n",
        "\n",
        "coeff = abs(model.dual_coef_)\n",
        "alpha_coeff = np.zeros(len(data))\n",
        "for idx, c in enumerate(model.support_):\n",
        "  alpha_coeff[c] = coeff[0][idx]\n",
        "w0 = model.intercept_\n",
        "print(alpha_coeff)"
      ],
      "execution_count": 2,
      "outputs": [
        {
          "output_type": "stream",
          "text": [
            "[0.1667 0.0555 0.2222 0.    ]\n"
          ],
          "name": "stdout"
        }
      ]
    },
    {
      "cell_type": "code",
      "metadata": {
        "id": "c9MkCRHXbiY6",
        "colab_type": "code",
        "outputId": "7d415ff2-d15e-4337-b0df-1e7e7407d326",
        "colab": {
          "base_uri": "https://localhost:8080/",
          "height": 51
        }
      },
      "source": [
        "# 3. Classification of new point using calculations\n",
        "import numpy as np\n",
        "x_5 = np.array([1])\n",
        "x_5_hat = transform(x_5)\n",
        "tot = 0\n",
        "for i in range(len(alpha_coeff)):\n",
        "  tot += alpha_coeff[i] * label[i] * np.dot(x_hat[i], x_5_hat.T)\n",
        "print(\"Classification of new point through calculation: {}\".format(np.sign(tot + w0)))\n",
        "print(\"Classification of new point through prediction: {}\".format(model.predict(x_5_hat)))"
      ],
      "execution_count": 3,
      "outputs": [
        {
          "output_type": "stream",
          "text": [
            "Classification of new point through calculation: [-1.]\n",
            "Classification of new point through prediction: [-1]\n"
          ],
          "name": "stdout"
        }
      ]
    },
    {
      "cell_type": "markdown",
      "metadata": {
        "id": "aH4CaBpqkfoy",
        "colab_type": "text"
      },
      "source": [
        "4.a) $k(x_i, x) = \\langle \\tilde{x}_i, \\tilde{x} \\rangle \\; = \\; \\langle \\Phi({x}_i), \\Phi({x}) \\rangle \\; {=} \\; x_ix \\: + x_i^2x^2 \\; = \\; x_ix(1+x_ix)$"
      ]
    },
    {
      "cell_type": "code",
      "metadata": {
        "id": "n3uH-qEDovDl",
        "colab_type": "code",
        "outputId": "074e8d39-6fc1-4ef6-a115-a595dbf1fd29",
        "colab": {
          "base_uri": "https://localhost:8080/",
          "height": 34
        }
      },
      "source": [
        "# 4.b Classification of new value without projection\n",
        "a = []\n",
        "for i in data:\n",
        "  for j in x_5:\n",
        "    a.append(i * j * (1 + i * j))\n",
        "a = np.array(a)\n",
        "\n",
        "print(\"Classification of new point: {}\".format(np.sign(np.sum([alpha_coeff[i] * label[i] * a[i] for i in range(len(data))]))))"
      ],
      "execution_count": 4,
      "outputs": [
        {
          "output_type": "stream",
          "text": [
            "Classification of new point: 1.0\n"
          ],
          "name": "stdout"
        }
      ]
    },
    {
      "cell_type": "code",
      "metadata": {
        "id": "pCRguohW0Jh1",
        "colab_type": "code",
        "outputId": "a665bcb2-17bb-41d7-fd8d-e89bbadda862",
        "colab": {
          "base_uri": "https://localhost:8080/",
          "height": 51
        }
      },
      "source": [
        "# 5. Define own kernel based on the calculation in #4.a and find the coefficient\n",
        "def my_kernel(x, x_new):\n",
        "  a = np.zeros((len(x), len(x_new)))\n",
        "  for idx_x, val_x in enumerate(x):\n",
        "    for idx_j, val_j in enumerate(x_new):\n",
        "      a[idx_x, idx_j] = val_x * val_j * (1 + val_x * val_j)\n",
        "  return a\n",
        "\n",
        "model_ = svm.SVC(kernel=my_kernel)\n",
        "model_.fit(data.reshape(-1, 1), label)\n",
        "\n",
        "coeff_ = abs(model_.dual_coef_)\n",
        "alpha_coeff_ = np.zeros(len(data))\n",
        "for idx, c in enumerate(model_.support_):\n",
        "  alpha_coeff_[c] = coeff_[0][idx]\n",
        "\n",
        "print(\"Coefficient obtained using transformation(linear kernel): {}\".format(alpha_coeff))\n",
        "print(\"Coefficient obtained without transformation(custom kernel): {}\".format(alpha_coeff_))"
      ],
      "execution_count": 5,
      "outputs": [
        {
          "output_type": "stream",
          "text": [
            "Coefficient obtained using transformation(linear kernel): [0.1667 0.0555 0.2222 0.    ]\n",
            "Coefficient obtained without transformation(custom kernel): [0.1667 0.0555 0.2222 0.    ]\n"
          ],
          "name": "stdout"
        }
      ]
    },
    {
      "cell_type": "code",
      "metadata": {
        "id": "OGFZbmJF_26L",
        "colab_type": "code",
        "outputId": "da1f3420-66ae-4e0b-9af2-26891b863f57",
        "colab": {
          "base_uri": "https://localhost:8080/",
          "height": 34
        }
      },
      "source": [
        "# 6. Normalized distance of new point from the hyperplane\n",
        "distance = np.sum([alpha_coeff[i] * label[i] * my_kernel([data[i]], [x_5]) for i in range(len(data))]) + w0\n",
        "\n",
        "norm_weight = 0\n",
        "for i in range(len(data)):\n",
        "  for j in range(len(data)):\n",
        "    norm_weight += np.sum([alpha_coeff[i] * alpha_coeff[j] * label[i] * label[j] * my_kernel([data[i]], [data[j]]) for i in range(len(data))]) \n",
        "\n",
        "norm_weight = np.sqrt(norm_weight)\n",
        "print(distance/norm_weight)"
      ],
      "execution_count": 6,
      "outputs": [
        {
          "output_type": "stream",
          "text": [
            "[-0.75017498]\n"
          ],
          "name": "stdout"
        }
      ]
    }
  ]
}