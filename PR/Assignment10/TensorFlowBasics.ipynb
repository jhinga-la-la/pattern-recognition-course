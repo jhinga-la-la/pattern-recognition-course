{
  "nbformat": 4,
  "nbformat_minor": 0,
  "metadata": {
    "colab": {
      "name": "TensorFlowBasics.ipynb",
      "provenance": []
    },
    "kernelspec": {
      "name": "python3",
      "display_name": "Python 3"
    }
  },
  "cells": [
    {
      "cell_type": "code",
      "metadata": {
        "id": "aEm-8havmj_W",
        "colab_type": "code",
        "outputId": "9c00a892-19c7-4753-88a4-8b6d56cf8129",
        "colab": {
          "base_uri": "https://localhost:8080/",
          "height": 80
        }
      },
      "source": [
        "import tensorflow as tf\n",
        "print(tf.__version__)"
      ],
      "execution_count": 1,
      "outputs": [
        {
          "output_type": "display_data",
          "data": {
            "text/html": [
              "<p style=\"color: red;\">\n",
              "The default version of TensorFlow in Colab will soon switch to TensorFlow 2.x.<br>\n",
              "We recommend you <a href=\"https://www.tensorflow.org/guide/migrate\" target=\"_blank\">upgrade</a> now \n",
              "or ensure your notebook will continue to use TensorFlow 1.x via the <code>%tensorflow_version 1.x</code> magic:\n",
              "<a href=\"https://colab.research.google.com/notebooks/tensorflow_version.ipynb\" target=\"_blank\">more info</a>.</p>\n"
            ],
            "text/plain": [
              "<IPython.core.display.HTML object>"
            ]
          },
          "metadata": {
            "tags": []
          }
        },
        {
          "output_type": "stream",
          "text": [
            "1.15.0\n"
          ],
          "name": "stdout"
        }
      ]
    },
    {
      "cell_type": "code",
      "metadata": {
        "id": "S-gH7mU8mwY0",
        "colab_type": "code",
        "colab": {}
      },
      "source": [
        "# 1. a)\n",
        "# i. Define a graph for f(x)\n",
        "graph = tf.get_default_graph()\n",
        "with graph.as_default():\n",
        "  x = tf.Variable(0.0, name='x', trainable=True)\n",
        "  a = tf.constant(2.0, name='a')\n",
        "  b = tf.constant(4.0, name='b')\n",
        "  f = a * (x + 1)**2 + b * x\n",
        "  #f = tf.add(tf.multiply(a, tf.square(x + 1) + tf.multiply(b, x))"
      ],
      "execution_count": 0,
      "outputs": []
    },
    {
      "cell_type": "markdown",
      "metadata": {
        "id": "Cnb5R1_jnDMf",
        "colab_type": "text"
      },
      "source": [
        "$f(x) = a(x + 1)^2 + bx$"
      ]
    },
    {
      "cell_type": "code",
      "metadata": {
        "id": "4ahyyc8DnhzL",
        "colab_type": "code",
        "colab": {
          "base_uri": "https://localhost:8080/",
          "height": 68
        },
        "outputId": "6b345aae-aa52-4c05-adc2-6faad8d4119d"
      },
      "source": [
        "# ii. operation which applies gradient descent\n",
        "optimizer = tf.train.GradientDescentOptimizer(learning_rate=0.05)\n",
        "grads = optimizer.minimize(f)"
      ],
      "execution_count": 3,
      "outputs": [
        {
          "output_type": "stream",
          "text": [
            "WARNING:tensorflow:From /usr/local/lib/python3.6/dist-packages/tensorflow_core/python/ops/math_grad.py:1375: where (from tensorflow.python.ops.array_ops) is deprecated and will be removed in a future version.\n",
            "Instructions for updating:\n",
            "Use tf.where in 2.0, which has the same broadcast rule as np.where\n"
          ],
          "name": "stdout"
        }
      ]
    },
    {
      "cell_type": "code",
      "metadata": {
        "id": "U_bw5lfYoWtI",
        "colab_type": "code",
        "outputId": "3b01b83d-33c0-4ff8-8156-c2f3be8042d0",
        "colab": {
          "base_uri": "https://localhost:8080/",
          "height": 544
        }
      },
      "source": [
        "#1. b)\n",
        "# i. global variable initializer\n",
        "init = tf.global_variables_initializer()\n",
        "epoch = 30\n",
        "with tf.Session() as sess:\n",
        "  init.run()\n",
        "  print(\"Value after initilization, x -> {}, f(x) -> {}\". format(sess.run(x), sess.run(f)))\n",
        "  # ii. training step\n",
        "  for i in range(epoch):\n",
        "    sess.run(grads)\n",
        "    x_opt = sess.run(x)\n",
        "    function_opt = sess.run(f)\n",
        "    print(\"Current value of x* - {} and f(x*) - {}\".format(x_opt, function_opt))"
      ],
      "execution_count": 4,
      "outputs": [
        {
          "output_type": "stream",
          "text": [
            "Value after initilization, x -> 0.0, f(x) -> 2.0\n",
            "Current value of x* - -0.4000000059604645 and f(x*) - -0.8799999952316284\n",
            "Current value of x* - -0.7200000286102295 and f(x*) - -2.7232000827789307\n",
            "Current value of x* - -0.9760000109672546 and f(x*) - -3.9028480052948\n",
            "Current value of x* - -1.180799961090088 and f(x*) - -4.657822608947754\n",
            "Current value of x* - -1.3446400165557861 and f(x*) - -5.1410064697265625\n",
            "Current value of x* - -1.4757120609283447 and f(x*) - -5.450244426727295\n",
            "Current value of x* - -1.5805696249008179 and f(x*) - -5.64815616607666\n",
            "Current value of x* - -1.6644556522369385 and f(x*) - -5.774819850921631\n",
            "Current value of x* - -1.7315645217895508 and f(x*) - -5.855884552001953\n",
            "Current value of x* - -1.7852516174316406 and f(x*) - -5.907766342163086\n",
            "Current value of x* - -1.8282012939453125 and f(x*) - -5.940970420837402\n",
            "Current value of x* - -1.8625609874725342 and f(x*) - -5.962221145629883\n",
            "Current value of x* - -1.8900487422943115 and f(x*) - -5.975821495056152\n",
            "Current value of x* - -1.912039041519165 and f(x*) - -5.984525680541992\n",
            "Current value of x* - -1.929631233215332 and f(x*) - -5.990096569061279\n",
            "Current value of x* - -1.9437049627304077 and f(x*) - -5.993661880493164\n",
            "Current value of x* - -1.9549639225006104 and f(x*) - -5.995943546295166\n",
            "Current value of x* - -1.9639711380004883 and f(x*) - -5.997404098510742\n",
            "Current value of x* - -1.9711768627166748 and f(x*) - -5.99833869934082\n",
            "Current value of x* - -1.976941466331482 and f(x*) - -5.998936653137207\n",
            "Current value of x* - -1.9815531969070435 and f(x*) - -5.999319553375244\n",
            "Current value of x* - -1.9852426052093506 and f(x*) - -5.999564170837402\n",
            "Current value of x* - -1.9881941080093384 and f(x*) - -5.999721527099609\n",
            "Current value of x* - -1.9905552864074707 and f(x*) - -5.999821662902832\n",
            "Current value of x* - -1.9924442768096924 and f(x*) - -5.999885559082031\n",
            "Current value of x* - -1.993955373764038 and f(x*) - -5.999927043914795\n",
            "Current value of x* - -1.9951642751693726 and f(x*) - -5.999953269958496\n",
            "Current value of x* - -1.996131420135498 and f(x*) - -5.999969959259033\n",
            "Current value of x* - -1.9969050884246826 and f(x*) - -5.999980926513672\n",
            "Current value of x* - -1.9975240230560303 and f(x*) - -5.999987602233887\n"
          ],
          "name": "stdout"
        }
      ]
    },
    {
      "cell_type": "code",
      "metadata": {
        "id": "D9H7p2iIfMIv",
        "colab_type": "code",
        "colab": {}
      },
      "source": [
        "#2.\n",
        "# a)\n",
        "tf.reset_default_graph()\n",
        "graph = tf.get_default_graph()\n",
        "# Define a graph for f(x)\n",
        "with graph.as_default():\n",
        "  x = tf.placeholder(dtype=tf.float32, shape=None)\n",
        "  a = tf.constant(2.0, name='a')\n",
        "  b = tf.constant(4.0, name='b')\n",
        "  f = a * (x + 1)**2 + b * x"
      ],
      "execution_count": 0,
      "outputs": []
    },
    {
      "cell_type": "code",
      "metadata": {
        "id": "I-4zY6N0flo4",
        "colab_type": "code",
        "colab": {}
      },
      "source": [
        "# b)\n",
        "import numpy as np\n",
        "with tf.Session() as sess:\n",
        "  x_range = np.linspace(-6, 2, 50)\n",
        "  y = sess.run(f, feed_dict={x:x_range})"
      ],
      "execution_count": 0,
      "outputs": []
    },
    {
      "cell_type": "code",
      "metadata": {
        "id": "xY50tEngiPkh",
        "colab_type": "code",
        "colab": {
          "base_uri": "https://localhost:8080/",
          "height": 265
        },
        "outputId": "b4cf21d3-9d99-4cc3-f980-6d0269d9399b"
      },
      "source": [
        "# c)\n",
        "import matplotlib.pyplot as plt\n",
        "\n",
        "fig = plt.figure()\n",
        "ax = fig.add_subplot(111)\n",
        "ax.plot(x_range, y)\n",
        "ax.annotate('  local min, (-2, f(-2))', xy=(x_opt, function_opt), arrowprops=dict(facecolor='black', shrink=0.05),)\n",
        "plt.show()"
      ],
      "execution_count": 7,
      "outputs": [
        {
          "output_type": "display_data",
          "data": {
            "image/png": "[encoded data removed]",
            "text/plain": [
              "<Figure size 432x288 with 1 Axes>"
            ]
          },
          "metadata": {
            "tags": []
          }
        }
      ]
    }
  ]
}