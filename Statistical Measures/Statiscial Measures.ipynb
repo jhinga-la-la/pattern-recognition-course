{
 "cells": [
  {
   "cell_type": "markdown",
   "metadata": {},
   "source": [
    "## Exercise 1: Statistical Measures [Pen and Paper]\n",
    "\n",
    "Whenever we deal with a $$\omega$$𝜔<sub>1</sub> dataset to solve a particular problem, it is helpful to first analyze the data and extract some information. In this exercise, we are going to take a look at statistical measures which are very basic tools and describe the data by a single number only. However, this does not mean that they are useless or less important than other (more complex) analysis. Every measure conveys a special meaning and must be applied with care since they are also easily misinterpreted.\n",
    "\n",
    "Here, we are using a small one-dimensional dataset\n",
    "\n",
    "\\begin{equation}X = \\{5, 4, 10, 1, 5, 25\\} \\end{equation}\n",
    "\n",
    "where we can easily calculate the results by hand. Besides the measures, we are going to work with a box-and-whisker plot which is a very important visualization technique summarizing a lot of information."
   ]
  },
  {
   "cell_type": "markdown",
   "metadata": {},
   "source": [
    "1. Let's start with an overview of the measures. For this, calculate the missing values in below table:"
   ]
  },
  {
   "cell_type": "markdown",
   "metadata": {},
   "source": [
    "Measure | Required scaling | Value of measure for 𝑋 |\n",
    ":------- | :------: | -------: |\n",
    "Mode | **<ins>Nominal</ins>** | **<ins>5</ins>**\n",
    "Arithmetic mean 𝑥 | **<ins>Interval</ins>**| **<ins>(1+4+5+5+10+25)/6 = 8.333</ins>**\n",
    "Quantile 𝑥̃<sub>0.25</sub>| **<ins>Ordinal</ins>** |**<ins>4</ins>**\n",
    "Median 𝑥̃<sub>0.5</sub>  |**<ins>Ordinal</ins>** | **<ins>5</ins>**\n",
    "Range 𝑅  | **<ins>Interval</ins>** | **<ins>25-1 = 24</ins>**\n",
    "Interquartile range 𝑄 |**<ins>Interval</ins>** |**<ins>10-4 = 6</ins>**\n",
    "Variance  s<sup>2</sup> |**<ins>Interval</ins>**| **<ins>𝑠<sup>2</sup> = 75.066 (Note: therefore s = 8.664)</ins>**\n",
    "Skewness 𝑔 |**<ins>Interval</ins>** |**<ins>0.6667 (+ve)</ins>**\n",
    "Quartile skewness 𝑔<sub>𝑄</sub> |**<ins>Ratio</ins>**| **<ins>1</ins>**"
   ]
  },
  {
   "cell_type": "markdown",
   "metadata": {},
   "source": [
    "2. Below figure shows a box-and-whisker plot of 𝑋. We now want to analyze which information we can retrieve from this plot. The figure is annotated with labels corresponding to a value of a statistical measure.\n",
    "![](./img/figure1.png)\n",
    "\t\n",
    "    a) Name what the labels 1, 2, 3 and 6 shows us:\n",
    "$$\\\\ $$\n",
    ">\\begin{equation} label_1 = \\bar x_{0.75}\\\\ label_2 = Median\\hspace{0.25cm} Value\\\\ label_3 = \\bar x_{0.25}\\\\ label_6 = Inter \\hspace{0.25cm} Quartile \\hspace{0.25cm} Range\\end{equation}\n",
    "$$\\\\ $$\n",
    "    \n",
    "    b) The other labels may deserve a bit of explanation. Unfortunately, it is not strictly defined how the whiskers (4 and 5) are set and what is treated as an outlier (7). The general idea is to show the relevant range of the data via the whiskers and all other data points, where the evidence is strong that they don’t really belong to the dataset, are considered as outliers. Toolkits and libraries usually provide a way to configure this behavior. However, there is a common convention for the whiskers which says that they are set to at most 1.5 times of the interquartile range. “most” because we adjust the whiskers to represent a value which is actually present in the dataset. Every data value which still lies outside this range is considered an outlier.\n",
    "\n",
    "        1. Calculate the lower whisker:\n",
    "$$ min ({x  |  x ∈ X ∧ x  ≥ \\bar x_{0.25} − 1.5 ⋅ Q}) $$\n",
    ">**4 – (1.5*6) = -5**\n",
    "\n",
    "        2. Calculate the upper whisker:\n",
    "$$ max ({x | x ∈ X ∧ x  ≥ \\bar x_{0.25} − 1.5 ⋅ Q}) $$\n",
    ">**10 + (1.5*6) = 19**\n",
    "\n",
    "    c) Can you infer the sign of the skewness 𝑔 from the box-and-whisker plot?\n",
    ">**Yes**"
   ]
  },
  {
   "cell_type": "markdown",
   "metadata": {},
   "source": [
    "3. Compared to the skewness 𝑔, the quartile skewness 𝑔<sub>𝑄</sub> has the advantage of being more robust against outliers and the result is normed. Hint: use the figure on slide 56 as help for the following questions.\n",
    "\n",
    "\ta) What is the interval [𝑎; 𝑏] to which the values 𝑔<sub>𝑄</sub> are bounded to?\n",
    ">**[-1, 1]**\n",
    "\n",
    "\tb) For which values do we say that the distribution is left, right or not skewed at all?\n",
    ">**Not skewed, 𝑔<sub>𝑄</sub> = 0; Left skewed, 𝑔<sub>𝑄</sub> < 0; Right skewed, 𝑔<sub>𝑄</sub> > 0**\n",
    "\n",
    "\tc) Which conditions must hold in the extreme cases, i.e. when do we get the values 𝑎 or 𝑏 for 𝑔<sub>𝑄</sub>?\n",
    ">**When Q1=Q2 or Q2=Q3 , 𝑔<sub>𝑄</sub>=+1 or 𝑔<sub>𝑄</sub>=-1**\n",
    "\n",
    "\td) Give an example of a new dataset 𝑋1 which results in minimal quartile skewness, i.e. 𝑔<sub>𝑄</sub>(𝑋<sub>1</sub>) = 𝑎?\n",
    ">**X={1,3,3,3,9,10}**\n",
    "   \n",
    "    e) Give an example of a new dataset 𝑋2 which results in maximal quartile skewness, i.e. 𝑔<sub>𝑄</sub>(𝑋<sub>2</sub>) = 𝑏?\n",
    ">**X={-10,1,3,3,3,5}**"
   ]
  },
  {
   "cell_type": "markdown",
   "metadata": {},
   "source": [
    "4. Look at the cartoons on this blog2 and explain the basic flaw of each mentioned statistical measure, i.e. what are the main problems the author wants to draw your attention to? Or, to put it differently, what do you need to keep in mind when using these measures?\n",
    "\n",
    ">- The **<ins>arithmetic mean</ins>** is not the best measure to use with data sets containing a few extreme values or with more dispersed (volatile) data sets in general.\n",
    "- The **<ins>median</ins>** does not convey information about the max , min and the intermediate values. Hence , it may lead to a false impression .\n",
    "- The **<ins>mode</ins>** may be an inaccurate representation of data as it is not based on all the values(unlike the mean).\n",
    "- The **<ins>range</ins>** accounts for the difference between the max and the min values . It does not however convey the frequency of data points in the range and thus it would be a wrong representation while displaying diversity of data.\n",
    "- The **<ins>correlation coefficient</ins>** may show that two variables are strongly correlated , however it doesn’t mean that they are responsible for each other or depend on each other. Also, the correlation coefficient measures linear relationships : the result is inaccurate is the relationship is non-linear.\n",
    "- The **<ins>variance</ins>** tells us how far the dataset values are from the mean . This information should not be used to generalize as to what the actual result is . Also, extreme values affect the variance considerably </ins>"
   ]
  }
 ],
 "metadata": {
  "kernelspec": {
   "display_name": "Python 3",
   "language": "python",
   "name": "python3"
  },
  "language_info": {
   "codemirror_mode": {
    "name": "ipython",
    "version": 3
   },
   "file_extension": ".py",
   "mimetype": "text/x-python",
   "name": "python",
   "nbconvert_exporter": "python",
   "pygments_lexer": "ipython3",
   "version": "3.7.6"
  }
 },
 "nbformat": 4,
 "nbformat_minor": 4
}
