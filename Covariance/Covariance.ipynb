{
 "cells": [
  {
   "cell_type": "markdown",
   "metadata": {},
   "source": [
    "## Exercise 1: Covariance [Pen and Paper]"
   ]
  },
  {
   "cell_type": "markdown",
   "metadata": {},
   "source": [
    "The covariance is an important measure when we want to know how two features influence each other linearly. It takes the feature variables 𝑋 and 𝑌 as input and returns a single value\n",
    "$$s_{XY} = \\frac1{n-1} \\sum_{i=1}^{n}{(x_i - \\bar x)(y_i - \\bar y)}$$\n",
    "describing the linear relationship between 𝑋 and 𝑌. That is, 𝑠<sub>𝑋 𝑌</sub> describes a tendency of the co-occurrence of both features. In this exercise, we want to analyse this tendency and see how it behaves and changes."
   ]
  },
  {
   "cell_type": "markdown",
   "metadata": {},
   "source": [
    "𝑋 | 𝑌 |\n",
    "-- | -- \n",
    "1 | 0\n",
    "3 | 2.5\n",
    "2 | 3\n",
    "0 | 2.5\n",
    "    \n",
    "   "
   ]
  },
  {
   "cell_type": "markdown",
   "metadata": {},
   "source": [
    "1. First, we want to get used to 𝑠<sub>𝑋 𝑌</sub> by calculating its value for a simple two-dimensional dataset given above. The centre of mass is (̄𝑥, ̄𝑦) = (1.5, 2). Use Figure 1 to calculate the value of 𝑠<sub>𝑋 𝑌</sub> via the following steps:\n",
    "\n",
    "    a) Draw the four quadrants separated by the centre of mass and axes-aligned lines.![](./img/figure1.png)\n",
    "    \n",
    "    b) Mark for each quadrant in which way it influences the covariance, i.e. if it increases or decreases its value.\n",
    "    \n",
    "    c) Draw a rectangle for each data point.\n",
    "    \n",
    "    d) Calculate the covariance by weighting each rectangle (positively or negatively) corresponding to the quadrant, summing up and applying the overall scaling factor 1/𝑛−1. Note how you essentially calculated Equation 1 with these steps.\n",
    "\n",
    "2. Of particular importance is the sign of 𝑠<sub>𝑋 𝑌</sub> . Sketch for each of the following cases a new dataset which results in a covariance of\n",
    "\n",
    "    a) 𝑠𝑋 𝑌 > 0.\n",
    "    \n",
    "    b) 𝑠𝑋 𝑌 = 0.\n",
    "    \n",
    "    c) 𝑠𝑋 𝑌 < 0.\n",
    "\n",
    "\n",
    "3. The magnitude of 𝑠<sub>𝑋 𝑌</sub> depends on the number of points which fall in each quadrant. Consider now the new dataset shown in Figure 2 where a rectangle is drawn for each data point with the colour corresponding to the sign of the quadrant. We now want to see what influences the magnitude of 𝑠<sub>𝑋 𝑌</sub>. \n",
    "\n",
    "    a) One important factor is the fraction of positively and negatively weighted points, i.e. the intensity of the red and green areas compared. Add a new data point to one of the areas so that 𝑠<sub>𝑋 𝑌</sub> increases.\n",
    "    b) Add yet another point to the dataset which also increases 𝑠<sub>𝑋 𝑌</sub> but with a higher amount than before.\n",
    "    c) Currently, the two variables have a similar scaling (the axis range is the same in both cases). But, if the scales were not the same, would it influence 𝑠<sub>𝑋 𝑌</sub> ? Suppose e.g. that 𝑋 is currently measured in metre and if we changed that to kilometre, would this influence the magnitude of 𝑠<sub>𝑋 𝑌</sub> ?"
   ]
  }
 ],
 "metadata": {
  "kernelspec": {
   "display_name": "Python 3",
   "language": "python",
   "name": "python3"
  },
  "language_info": {
   "codemirror_mode": {
    "name": "ipython",
    "version": 3
   },
   "file_extension": ".py",
   "mimetype": "text/x-python",
   "name": "python",
   "nbconvert_exporter": "python",
   "pygments_lexer": "ipython3",
   "version": "3.7.6"
  }
 },
 "nbformat": 4,
 "nbformat_minor": 4
}
